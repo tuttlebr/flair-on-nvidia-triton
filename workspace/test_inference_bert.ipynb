{
 "cells": [
  {
   "cell_type": "code",
   "execution_count": 1,
   "id": "fac68228",
   "metadata": {},
   "outputs": [],
   "source": [
    "import numpy as np\n",
    "import torch\n",
    "import tritonclient.grpc as grpcclient\n",
    "from transformers import BertTokenizer"
   ]
  },
  {
   "cell_type": "code",
   "execution_count": 2,
   "id": "52ef4d49-13c4-4c97-9b27-01d143f30ca1",
   "metadata": {},
   "outputs": [],
   "source": [
    "TRITON_SERVER_URL = \"172.25.4.42:8001\"\n",
    "MODEL_NAME = \"bert-base-uncased\"\n",
    "MODEL_VERSION = \"1\""
   ]
  },
  {
   "cell_type": "code",
   "execution_count": 3,
   "id": "5ee264de-e5c2-4b36-b78f-dc85280085d1",
   "metadata": {},
   "outputs": [
    {
     "data": {
      "application/json": {
       "ascii": false,
       "bar_format": null,
       "colour": null,
       "elapsed": 0.026107072830200195,
       "initial": 0,
       "n": 0,
       "ncols": null,
       "nrows": null,
       "postfix": null,
       "prefix": "Downloading",
       "rate": null,
       "total": 231508,
       "unit": "B",
       "unit_divisor": 1000,
       "unit_scale": true
      },
      "application/vnd.jupyter.widget-view+json": {
       "model_id": "3e8f8b85e78c4dfdb0abebec70f18681",
       "version_major": 2,
       "version_minor": 0
      },
      "text/plain": [
       "Downloading:   0%|          | 0.00/232k [00:00<?, ?B/s]"
      ]
     },
     "metadata": {},
     "output_type": "display_data"
    },
    {
     "data": {
      "application/json": {
       "ascii": false,
       "bar_format": null,
       "colour": null,
       "elapsed": 0.01461482048034668,
       "initial": 0,
       "n": 0,
       "ncols": null,
       "nrows": null,
       "postfix": null,
       "prefix": "Downloading",
       "rate": null,
       "total": 28,
       "unit": "B",
       "unit_divisor": 1000,
       "unit_scale": true
      },
      "application/vnd.jupyter.widget-view+json": {
       "model_id": "da5a24888d464e7f98ee16ba686e1ea7",
       "version_major": 2,
       "version_minor": 0
      },
      "text/plain": [
       "Downloading:   0%|          | 0.00/28.0 [00:00<?, ?B/s]"
      ]
     },
     "metadata": {},
     "output_type": "display_data"
    },
    {
     "data": {
      "application/json": {
       "ascii": false,
       "bar_format": null,
       "colour": null,
       "elapsed": 0.012063264846801758,
       "initial": 0,
       "n": 0,
       "ncols": null,
       "nrows": null,
       "postfix": null,
       "prefix": "Downloading",
       "rate": null,
       "total": 570,
       "unit": "B",
       "unit_divisor": 1000,
       "unit_scale": true
      },
      "application/vnd.jupyter.widget-view+json": {
       "model_id": "6201d5e16a88423cb62af92ca9869cf8",
       "version_major": 2,
       "version_minor": 0
      },
      "text/plain": [
       "Downloading:   0%|          | 0.00/570 [00:00<?, ?B/s]"
      ]
     },
     "metadata": {},
     "output_type": "display_data"
    }
   ],
   "source": [
    "tokenizer = BertTokenizer.from_pretrained(\"bert-base-uncased\")"
   ]
  },
  {
   "cell_type": "code",
   "execution_count": 4,
   "id": "1eee4bd4",
   "metadata": {},
   "outputs": [],
   "source": [
    "triton_client = grpcclient.InferenceServerClient(url=TRITON_SERVER_URL, verbose=False)\n",
    "\n",
    "model_metadata = triton_client.get_model_metadata(\n",
    "    model_name=MODEL_NAME, model_version=MODEL_VERSION\n",
    ")\n",
    "\n",
    "model_config = triton_client.get_model_config(\n",
    "    model_name=MODEL_NAME, model_version=MODEL_VERSION\n",
    ").config"
   ]
  },
  {
   "cell_type": "code",
   "execution_count": 5,
   "id": "1fa5ba95-e368-4107-ac18-55172dd958e1",
   "metadata": {},
   "outputs": [
    {
     "data": {
      "text/plain": [
       "array([[[-0.40581343,  0.03075648, -0.7144412 , ..., -0.25446898,\n",
       "          0.69571453,  0.22398195],\n",
       "        [-0.3476853 ,  0.08060041, -0.70669293, ...,  0.143665  ,\n",
       "          1.0106599 , -0.41183484],\n",
       "        [-0.25164652,  0.31278068, -0.5605794 , ..., -0.21715908,\n",
       "          0.5899458 ,  0.2579052 ],\n",
       "        ...,\n",
       "        [-0.16933455,  0.02085777,  0.13789615, ...,  0.20282398,\n",
       "          0.4034456 , -0.3466968 ],\n",
       "        [ 0.6180864 ,  0.32834625, -0.29204392, ...,  0.3744501 ,\n",
       "         -0.22721124, -0.16758089],\n",
       "        [ 0.49163795,  0.5260932 , -0.02149553, ...,  0.44693998,\n",
       "         -0.24639283, -0.02547622]]], dtype=float32)"
      ]
     },
     "execution_count": 5,
     "metadata": {},
     "output_type": "execute_result"
    }
   ],
   "source": [
    "text_0 = \"Who is Jim Henson?\"\n",
    "text_1 = \"Jim Henson was a puppeteer.\"\n",
    "\n",
    "tokenized_tensor_0 = tokenizer(text_0, add_special_tokens=True, return_tensors=\"pt\")\n",
    "tokenized_tensor_1 = tokenizer(text_1, add_special_tokens=True, return_tensors=\"pt\")\n",
    "tokens_tensor = torch.concat(\n",
    "    (tokenized_tensor_0[\"input_ids\"], tokenized_tensor_1[\"input_ids\"]), axis=1\n",
    ")\n",
    "segments_tensors = torch.concat(\n",
    "    (tokenized_tensor_0[\"token_type_ids\"], tokenized_tensor_1[\"attention_mask\"]), axis=1\n",
    ")\n",
    "\n",
    "inputs = [\n",
    "    grpcclient.InferInput(\"INPUT__0\", tokens_tensor.shape, \"INT64\"),\n",
    "    grpcclient.InferInput(\"INPUT__1\", segments_tensors.shape, \"INT64\"),\n",
    "]\n",
    "inputs[0].set_data_from_numpy(tokens_tensor.numpy())\n",
    "inputs[1].set_data_from_numpy(segments_tensors.numpy())\n",
    "\n",
    "outputs = [grpcclient.InferRequestedOutput(\"OUTPUT__0\")]\n",
    "\n",
    "response = triton_client.infer(MODEL_NAME, inputs, outputs=outputs)\n",
    "response.as_numpy(\"OUTPUT__0\")"
   ]
  },
  {
   "cell_type": "code",
   "execution_count": 6,
   "id": "26dfa82b",
   "metadata": {},
   "outputs": [
    {
     "data": {
      "text/plain": [
       "array([[[-0.0842174 ,  0.323568  , -0.1105911 , ..., -0.11505853,\n",
       "          0.22684385,  0.300774  ],\n",
       "        [-0.696245  , -0.5622486 ,  0.31854993, ...,  0.59485936,\n",
       "          0.3186028 ,  0.37230492],\n",
       "        [-0.09945246, -0.27682346,  0.00796228, ...,  0.27717853,\n",
       "          0.89625555,  0.22545226],\n",
       "        ...,\n",
       "        [-0.10669011, -0.293952  , -0.5867963 , ...,  0.9397089 ,\n",
       "          0.23595893, -0.25241837],\n",
       "        [ 0.7441143 , -0.01658609, -0.3539413 , ...,  0.16293712,\n",
       "         -0.52902055, -0.32487407],\n",
       "        [ 0.56135845,  0.17078853, -0.17963175, ...,  0.22316153,\n",
       "         -0.555243  , -0.3090601 ]]], dtype=float32)"
      ]
     },
     "execution_count": 6,
     "metadata": {},
     "output_type": "execute_result"
    }
   ],
   "source": [
    "text_0 = \"Who are the founders of NVIDIA?\"\n",
    "text_1 = \"NVIDIA is founded by Jensen Huang, Chris Malachowsky and Curtis Priem.\"\n",
    "\n",
    "tokenized_tensor_0 = tokenizer(text_0, add_special_tokens=True, return_tensors=\"pt\")\n",
    "tokenized_tensor_1 = tokenizer(text_1, add_special_tokens=True, return_tensors=\"pt\")\n",
    "tokens_tensor = torch.concat(\n",
    "    (tokenized_tensor_0[\"input_ids\"], tokenized_tensor_1[\"input_ids\"]), axis=1\n",
    ")\n",
    "segments_tensors = torch.concat(\n",
    "    (tokenized_tensor_0[\"token_type_ids\"], tokenized_tensor_1[\"attention_mask\"]), axis=1\n",
    ")\n",
    "\n",
    "inputs = [\n",
    "    grpcclient.InferInput(\"INPUT__0\", tokens_tensor.shape, \"INT64\"),\n",
    "    grpcclient.InferInput(\"INPUT__1\", segments_tensors.shape, \"INT64\"),\n",
    "]\n",
    "inputs[0].set_data_from_numpy(tokens_tensor.numpy())\n",
    "inputs[1].set_data_from_numpy(segments_tensors.numpy())\n",
    "\n",
    "outputs = [grpcclient.InferRequestedOutput(\"OUTPUT__0\")]\n",
    "\n",
    "response = triton_client.infer(MODEL_NAME, inputs, outputs=outputs)\n",
    "response.as_numpy(\"OUTPUT__0\")"
   ]
  },
  {
   "cell_type": "code",
   "execution_count": null,
   "id": "36eb8d5a-efe8-4361-8160-88dd5cb4c5d6",
   "metadata": {},
   "outputs": [],
   "source": []
  }
 ],
 "metadata": {
  "kernelspec": {
   "display_name": "Python 3 (ipykernel)",
   "language": "python",
   "name": "python3"
  },
  "language_info": {
   "codemirror_mode": {
    "name": "ipython",
    "version": 3
   },
   "file_extension": ".py",
   "mimetype": "text/x-python",
   "name": "python",
   "nbconvert_exporter": "python",
   "pygments_lexer": "ipython3",
   "version": "3.8.13"
  }
 },
 "nbformat": 4,
 "nbformat_minor": 5
}
