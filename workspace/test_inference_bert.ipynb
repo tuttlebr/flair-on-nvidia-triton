{
 "cells": [
  {
   "cell_type": "code",
   "execution_count": 1,
   "id": "fac68228",
   "metadata": {},
   "outputs": [],
   "source": [
    "import numpy as np\n",
    "import torch\n",
    "import tritonclient.grpc as grpcclient\n",
    "from transformers import BertTokenizer"
   ]
  },
  {
   "cell_type": "code",
   "execution_count": 2,
   "id": "52ef4d49-13c4-4c97-9b27-01d143f30ca1",
   "metadata": {},
   "outputs": [],
   "source": [
    "TRITON_SERVER_URL = \"172.25.4.42:8001\"\n",
    "MODEL_NAME = \"bert-base-uncased\"\n",
    "MODEL_VERSION = \"1\""
   ]
  },
  {
   "cell_type": "code",
   "execution_count": 3,
   "id": "5ee264de-e5c2-4b36-b78f-dc85280085d1",
   "metadata": {},
   "outputs": [],
   "source": [
    "tokenizer = BertTokenizer.from_pretrained(\"bert-base-uncased\")"
   ]
  },
  {
   "cell_type": "code",
   "execution_count": 4,
   "id": "1eee4bd4",
   "metadata": {},
   "outputs": [],
   "source": [
    "triton_client = grpcclient.InferenceServerClient(url=TRITON_SERVER_URL, verbose=False)\n",
    "\n",
    "model_metadata = triton_client.get_model_metadata(\n",
    "    model_name=MODEL_NAME, model_version=MODEL_VERSION\n",
    ")\n",
    "\n",
    "model_config = triton_client.get_model_config(\n",
    "    model_name=MODEL_NAME, model_version=MODEL_VERSION\n",
    ").config"
   ]
  },
  {
   "cell_type": "code",
   "execution_count": 5,
   "id": "26dfa82b",
   "metadata": {},
   "outputs": [
    {
     "data": {
      "text/plain": [
       "array([[[-0.08405367,  0.3233205 , -0.11031957, ..., -0.11474957,\n",
       "          0.22691588,  0.30055675],\n",
       "        [-0.6977316 , -0.56306213,  0.3189223 , ...,  0.59553444,\n",
       "          0.318297  ,  0.37281016],\n",
       "        [-0.09979279, -0.2772794 ,  0.00791831, ...,  0.2773895 ,\n",
       "          0.8962006 ,  0.22550069],\n",
       "        ...,\n",
       "        [-0.10681662, -0.2938968 , -0.5867815 , ...,  0.93991256,\n",
       "          0.2358838 , -0.25276625],\n",
       "        [ 0.7438755 , -0.01677273, -0.3546151 , ...,  0.16310963,\n",
       "         -0.52852833, -0.32508034],\n",
       "        [ 0.56116414,  0.17081466, -0.17988236, ...,  0.22354889,\n",
       "         -0.5551076 , -0.30939323]]], dtype=float32)"
      ]
     },
     "execution_count": 5,
     "metadata": {},
     "output_type": "execute_result"
    }
   ],
   "source": [
    "text_0 = \"Who are the founders of NVIDIA?\"\n",
    "text_1 = \"NVIDIA is founded by Jensen Huang, Chris Malachowsky and Curtis Priem.\"\n",
    "\n",
    "tokenized_tensor_0 = tokenizer(text_0, add_special_tokens=True, return_tensors=\"pt\")\n",
    "tokenized_tensor_1 = tokenizer(text_1, add_special_tokens=True, return_tensors=\"pt\")\n",
    "tokens_tensor = torch.concat(\n",
    "    (tokenized_tensor_0[\"input_ids\"], tokenized_tensor_1[\"input_ids\"]), axis=1\n",
    ")\n",
    "segments_tensors = torch.concat(\n",
    "    (tokenized_tensor_0[\"token_type_ids\"], tokenized_tensor_1[\"attention_mask\"]), axis=1\n",
    ")\n",
    "\n",
    "inputs = [\n",
    "    grpcclient.InferInput(\"INPUT__0\", tokens_tensor.shape, \"INT64\"),\n",
    "    grpcclient.InferInput(\"INPUT__1\", segments_tensors.shape, \"INT64\"),\n",
    "]\n",
    "inputs[0].set_data_from_numpy(tokens_tensor.numpy())\n",
    "inputs[1].set_data_from_numpy(segments_tensors.numpy())\n",
    "\n",
    "outputs = [grpcclient.InferRequestedOutput(\"OUTPUT__0\")]\n",
    "\n",
    "response = triton_client.infer(MODEL_NAME, inputs, outputs=outputs)\n",
    "response.as_numpy(\"OUTPUT__0\")"
   ]
  }
 ],
 "metadata": {
  "kernelspec": {
   "display_name": "Python 3 (ipykernel)",
   "language": "python",
   "name": "python3"
  },
  "language_info": {
   "codemirror_mode": {
    "name": "ipython",
    "version": 3
   },
   "file_extension": ".py",
   "mimetype": "text/x-python",
   "name": "python",
   "nbconvert_exporter": "python",
   "pygments_lexer": "ipython3",
   "version": "3.8.13"
  }
 },
 "nbformat": 4,
 "nbformat_minor": 5
}
