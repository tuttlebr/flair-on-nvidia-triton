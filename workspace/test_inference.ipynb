{
 "cells": [
  {
   "cell_type": "code",
   "execution_count": 1,
   "id": "d2e6aaa0",
   "metadata": {},
   "outputs": [],
   "source": [
    "import numpy as np\n",
    "import tritonclient.grpc as grpcclient"
   ]
  },
  {
   "cell_type": "code",
   "execution_count": 2,
   "id": "f076749f",
   "metadata": {},
   "outputs": [],
   "source": [
    "SHORT_EXAMPLE_SENTENCE = \"NVIDIA is located in California.\"\n",
    "LONG_EXAMPLE_SENTENCE = (\n",
    "    \"NVIDIA was founded by Jensen Huang, Chris Malachowsky, and Curtis Priem in 1993.\"\n",
    ")\n",
    "TRITON_SERVER_URL = \"172.25.4.42:8001\"\n",
    "MODEL_NAME = \"flair-ner-english-fast\"\n",
    "MODEL_VERSION = \"1\""
   ]
  },
  {
   "cell_type": "code",
   "execution_count": 3,
   "id": "f9b51ee8",
   "metadata": {},
   "outputs": [],
   "source": [
    "triton_client = grpcclient.InferenceServerClient(url=TRITON_SERVER_URL, verbose=False)\n",
    "\n",
    "model_metadata = triton_client.get_model_metadata(\n",
    "    model_name=MODEL_NAME, model_version=MODEL_VERSION\n",
    ")\n",
    "\n",
    "model_config = triton_client.get_model_config(\n",
    "    model_name=MODEL_NAME, model_version=MODEL_VERSION\n",
    ").config\n",
    "\n",
    "input_names = [i.name for i in model_config.input]\n",
    "output_names = [i.name for i in model_config.output]"
   ]
  },
  {
   "cell_type": "code",
   "execution_count": 4,
   "id": "dbca9367",
   "metadata": {},
   "outputs": [
    {
     "name": "stdout",
     "output_type": "stream",
     "text": [
      "NVIDIA is located in California.\n"
     ]
    }
   ],
   "source": [
    "print(SHORT_EXAMPLE_SENTENCE)\n",
    "sample_for_inference = np.frombuffer(\n",
    "    bytes(SHORT_EXAMPLE_SENTENCE, \"utf-8\"), dtype=\"uint8\"\n",
    ")"
   ]
  },
  {
   "cell_type": "code",
   "execution_count": 5,
   "id": "eca51f3e",
   "metadata": {},
   "outputs": [],
   "source": [
    "inputs = [grpcclient.InferInput(\"INPUT__0\", sample_for_inference.shape, \"UINT8\")]\n",
    "\n",
    "inputs[0].set_data_from_numpy(sample_for_inference)\n",
    "\n",
    "outputs = [\n",
    "    grpcclient.InferRequestedOutput(output_name, class_count=0)\n",
    "    for output_name in output_names\n",
    "]\n",
    "\n",
    "response = triton_client.infer(MODEL_NAME, inputs, outputs=outputs)"
   ]
  },
  {
   "cell_type": "code",
   "execution_count": 6,
   "id": "9b2432c4",
   "metadata": {},
   "outputs": [
    {
     "data": {
      "text/plain": [
       "['Sentence: \"NVIDIA was founded by Jensen Huang , Chris Malachowsky , and Curtis Priem in 1993 .\" ',\n",
       " ' [\"NVIDIA\"/ORG, \"Jensen Huang\"/PER, \"Chris Malachowsky\"/PER, \"Curtis Priem\"/PER]']"
      ]
     },
     "execution_count": 6,
     "metadata": {},
     "output_type": "execute_result"
    }
   ],
   "source": [
    "sentence = bytes(response.as_numpy(\"OUTPUT__0\")).decode()\n",
    "\n",
    "sentence.split(\"→\")"
   ]
  },
  {
   "cell_type": "code",
   "execution_count": null,
   "id": "4e8fad4a",
   "metadata": {},
   "outputs": [],
   "source": []
  }
 ],
 "metadata": {
  "kernelspec": {
   "display_name": "Python 3 (ipykernel)",
   "language": "python",
   "name": "python3"
  },
  "language_info": {
   "codemirror_mode": {
    "name": "ipython",
    "version": 3
   },
   "file_extension": ".py",
   "mimetype": "text/x-python",
   "name": "python",
   "nbconvert_exporter": "python",
   "pygments_lexer": "ipython3",
   "version": "3.8.13"
  }
 },
 "nbformat": 4,
 "nbformat_minor": 5
}
