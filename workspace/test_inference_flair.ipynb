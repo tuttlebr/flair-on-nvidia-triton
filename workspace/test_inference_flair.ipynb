{
 "cells": [
  {
   "cell_type": "code",
   "execution_count": 1,
   "id": "d2e6aaa0",
   "metadata": {},
   "outputs": [],
   "source": [
    "import numpy as np\n",
    "import torch\n",
    "from flair.data import Sentence\n",
    "from flair.models.sequence_tagger_utils.bioes import get_spans_from_bio\n",
    "import tritonclient.grpc as grpcclient\n",
    "\n",
    "from flair_model_surgery import TritonFastNERTagger"
   ]
  },
  {
   "cell_type": "code",
   "execution_count": 2,
   "id": "f076749f",
   "metadata": {},
   "outputs": [],
   "source": [
    "TRITON_SERVER_URL = \"172.25.4.42:8001\"\n",
    "MODEL_NAME = \"flair-ner-english-fast\"\n",
    "MODEL_VERSION = \"1\"\n",
    "DEVICE = \"cuda:0\" if torch.cuda.is_available() else \"cpu\""
   ]
  },
  {
   "cell_type": "code",
   "execution_count": 3,
   "id": "9dea46d4-462c-470a-afb1-1bfadcc32c40",
   "metadata": {},
   "outputs": [],
   "source": [
    "class ClientDecoder:\n",
    "    def __init__(self, tagger, triton_server_url, model_name, model_version):\n",
    "        self.tagger = tagger\n",
    "        self.triton_client = grpcclient.InferenceServerClient(\n",
    "            url=triton_server_url, verbose=False\n",
    "        )\n",
    "\n",
    "        self.model_metadata = self.triton_client.get_model_metadata(\n",
    "            model_name=model_name, model_version=model_version\n",
    "        )\n",
    "\n",
    "        self.model_config = self.triton_client.get_model_config(\n",
    "            model_name=model_name, model_version=model_version\n",
    "        ).config\n",
    "        self.model_name = model_name\n",
    "\n",
    "    def submit(self, string, device=\"cpu\"):\n",
    "        sentences = [Sentence(string)]\n",
    "        sorted_lengths, sentence_tensor = self.tagger.forward(sentences)\n",
    "        inputs = [\n",
    "            grpcclient.InferInput(\"INPUT__0\", sorted_lengths.shape, \"INT64\"),\n",
    "            grpcclient.InferInput(\"INPUT__1\", sentence_tensor.shape, \"FP32\"),\n",
    "        ]\n",
    "\n",
    "        inputs[0].set_data_from_numpy(sorted_lengths.cpu().numpy())\n",
    "        inputs[1].set_data_from_numpy(sentence_tensor.cpu().numpy())\n",
    "\n",
    "        outputs = [\n",
    "            grpcclient.InferRequestedOutput(\"OUTPUT__0\"),\n",
    "            grpcclient.InferRequestedOutput(\"OUTPUT__1\"),\n",
    "            grpcclient.InferRequestedOutput(\"OUTPUT__2\"),\n",
    "        ]\n",
    "\n",
    "        response = self.triton_client.infer(self.model_name, inputs, outputs=outputs)\n",
    "\n",
    "        features = torch.tensor(response.as_numpy(\"OUTPUT__0\"), device=device)\n",
    "        sorted_lengths = torch.tensor(response.as_numpy(\"OUTPUT__1\"), device=device)\n",
    "        transitions = torch.tensor(response.as_numpy(\"OUTPUT__2\"), device=device)\n",
    "\n",
    "        embedding = (features, sorted_lengths, transitions)\n",
    "\n",
    "        predictions, all_tags = tagger.viterbi_decoder.decode(\n",
    "            embedding, True, sentences\n",
    "        )\n",
    "\n",
    "        for sentence, sentence_predictions in zip(sentences, predictions):\n",
    "            sentence_tags = [label[0] for label in sentence_predictions]\n",
    "            sentence_scores = [label[1] for label in sentence_predictions]\n",
    "            predicted_spans = get_spans_from_bio(sentence_tags, sentence_scores)\n",
    "            for predicted_span in predicted_spans:\n",
    "                span = sentence[predicted_span[0][0] : predicted_span[0][-1] + 1]\n",
    "                span.add_label(\"ner\", value=predicted_span[2], score=predicted_span[1])\n",
    "\n",
    "        return sentences"
   ]
  },
  {
   "cell_type": "code",
   "execution_count": 4,
   "id": "a57ac56e-db66-4fd6-aff9-e8532e4548f2",
   "metadata": {},
   "outputs": [],
   "source": [
    "tagger = torch.load(\"tagger.bin\", map_location=torch.device(DEVICE))\n",
    "client_decoder = ClientDecoder(tagger, TRITON_SERVER_URL, MODEL_NAME, MODEL_VERSION)"
   ]
  },
  {
   "cell_type": "code",
   "execution_count": 5,
   "id": "d4e6401f-13d8-488b-b3da-7f9722a06657",
   "metadata": {},
   "outputs": [],
   "source": [
    "string_list = [\n",
    "    \"With the belief that the PC one day would become a consumer device for enjoying games and multimedia, NVIDIA is founded by Jensen Huang, Chris Malachowsky and Curtis Priem.\",\n",
    "    \"At the time, there were more than two dozen graphics chips companies, a number that would soar to 70 three years later.\",\n",
    "    \"By 2006, NVIDIA was the only independent still operating.\",\n",
    "    \"NVIDIA's reaches its first strategic partnership with SGS-Thomson Microelectronics to manufacture the company's single-chip graphical-user interface accelerator.\",\n",
    "    \"Diamond Multimedia Systems is selected to install the chips in multimedia accelerator boards.\",\n",
    "    \"Sega, the leader in arcade games, ports Virtual Fighter to be the first 3D game to run on NVIDIA graphics.\",\n",
    "    \"NVIDIA unveils its first Microsoft DirectX drivers with support for Direct3D, an API used to render 3D graphics where performance is critical.\",\n",
    "    \"The company introduces RIVA 128, the world's first 128-bit 3D processor.\",\n",
    "    \"It receives OEM acceptance, and more than one million units are shipped within its first four months.\",\n",
    "]"
   ]
  },
  {
   "cell_type": "code",
   "execution_count": 6,
   "id": "eca51f3e",
   "metadata": {},
   "outputs": [
    {
     "data": {
      "text/plain": [
       "[[Sentence: \"With the belief that the PC one day would become a consumer device for enjoying games and multimedia , NVIDIA is founded by Jensen Huang , Chris Malachowsky and Curtis Priem .\" → [\"PC\"/ORG, \"NVIDIA\"/ORG, \"Jensen Huang\"/PER, \"Chris Malachowsky\"/PER, \"Curtis Priem\"/PER]],\n",
       " [Sentence: \"At the time , there were more than two dozen graphics chips companies , a number that would soar to 70 three years later .\"],\n",
       " [Sentence: \"By 2006 , NVIDIA was the only independent still operating .\" → [\"NVIDIA\"/ORG]],\n",
       " [Sentence: \"NVIDIA 's reaches its first strategic partnership with SGS-Thomson Microelectronics to manufacture the company 's single-chip graphical-user interface accelerator .\" → [\"NVIDIA 's\"/ORG, \"SGS-Thomson Microelectronics\"/ORG]],\n",
       " [Sentence: \"Diamond Multimedia Systems is selected to install the chips in multimedia accelerator boards .\" → [\"Diamond Multimedia Systems\"/ORG]],\n",
       " [Sentence: \"Sega , the leader in arcade games , ports Virtual Fighter to be the first 3D game to run on NVIDIA graphics .\" → [\"Sega\"/ORG, \"Virtual Fighter\"/MISC, \"NVIDIA\"/ORG]],\n",
       " [Sentence: \"NVIDIA unveils its first Microsoft DirectX drivers with support for Direct3D , an API used to render 3D graphics where performance is critical .\" → [\"NVIDIA\"/ORG, \"Microsoft DirectX\"/MISC, \"Direct3D\"/MISC, \"API\"/MISC]],\n",
       " [Sentence: \"The company introduces RIVA 128 , the world 's first 128-bit 3D processor .\" → [\"RIVA 128\"/MISC]],\n",
       " [Sentence: \"It receives OEM acceptance , and more than one million units are shipped within its first four months .\"]]"
      ]
     },
     "execution_count": 6,
     "metadata": {},
     "output_type": "execute_result"
    }
   ],
   "source": [
    "[client_decoder.submit(string, DEVICE) for string in string_list]"
   ]
  },
  {
   "cell_type": "code",
   "execution_count": null,
   "id": "9cece0dd-185c-46f4-89c9-af4f447c14c0",
   "metadata": {},
   "outputs": [],
   "source": []
  }
 ],
 "metadata": {
  "kernelspec": {
   "display_name": "Python 3 (ipykernel)",
   "language": "python",
   "name": "python3"
  },
  "language_info": {
   "codemirror_mode": {
    "name": "ipython",
    "version": 3
   },
   "file_extension": ".py",
   "mimetype": "text/x-python",
   "name": "python",
   "nbconvert_exporter": "python",
   "pygments_lexer": "ipython3",
   "version": "3.8.13"
  }
 },
 "nbformat": 4,
 "nbformat_minor": 5
}
