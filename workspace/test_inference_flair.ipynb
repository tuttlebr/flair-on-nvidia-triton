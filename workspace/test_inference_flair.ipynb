{
 "cells": [
  {
   "cell_type": "code",
   "execution_count": null,
   "id": "d2e6aaa0",
   "metadata": {},
   "outputs": [],
   "source": [
    "import numpy as np\n",
    "import tritonclient.grpc as grpcclient"
   ]
  },
  {
   "cell_type": "code",
   "execution_count": null,
   "id": "f076749f",
   "metadata": {},
   "outputs": [],
   "source": [
    "TRITON_SERVER_URL = \"172.25.4.42:8001\"\n",
    "MODEL_NAME = \"flair-ner-english-fast\"\n",
    "MODEL_VERSION = \"1\"\n",
    "INPUT__0 = np.frombuffer(\n",
    "    (\n",
    "        bytes(\n",
    "            \"NVIDIA was founded by Jensen Huang, Chris Malachowsky, and Curtis Priem in 1993.\",\n",
    "            \"utf8\",\n",
    "        )\n",
    "    ),\n",
    "    dtype=\"uint8\",\n",
    ").reshape(1, -1)"
   ]
  },
  {
   "cell_type": "code",
   "execution_count": null,
   "id": "f9b51ee8",
   "metadata": {},
   "outputs": [],
   "source": [
    "triton_client = grpcclient.InferenceServerClient(url=TRITON_SERVER_URL, verbose=False)\n",
    "\n",
    "model_metadata = triton_client.get_model_metadata(\n",
    "    model_name=MODEL_NAME, model_version=MODEL_VERSION\n",
    ")\n",
    "\n",
    "model_config = triton_client.get_model_config(\n",
    "    model_name=MODEL_NAME, model_version=MODEL_VERSION\n",
    ").config"
   ]
  },
  {
   "cell_type": "code",
   "execution_count": null,
   "id": "eca51f3e",
   "metadata": {},
   "outputs": [],
   "source": [
    "inputs = [grpcclient.InferInput(\"INPUT__0\", INPUT__0.shape, \"UINT8\")]\n",
    "\n",
    "inputs[0].set_data_from_numpy(INPUT__0)\n",
    "\n",
    "outputs = grpcclient.InferRequestedOutput(\"OUTPUT__0\")\n",
    "\n",
    "response = triton_client.infer(MODEL_NAME, inputs, outputs=[outputs])"
   ]
  },
  {
   "cell_type": "code",
   "execution_count": null,
   "id": "9b2432c4",
   "metadata": {},
   "outputs": [],
   "source": [
    "response.get_response()"
   ]
  }
 ],
 "metadata": {
  "kernelspec": {
   "display_name": "Python 3 (ipykernel)",
   "language": "python",
   "name": "python3"
  },
  "language_info": {
   "codemirror_mode": {
    "name": "ipython",
    "version": 3
   },
   "file_extension": ".py",
   "mimetype": "text/x-python",
   "name": "python",
   "nbconvert_exporter": "python",
   "pygments_lexer": "ipython3",
   "version": "3.8.13"
  }
 },
 "nbformat": 4,
 "nbformat_minor": 5
}
